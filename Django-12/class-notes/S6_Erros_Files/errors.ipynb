{
 "cells": [
  {
   "cell_type": "code",
   "execution_count": null,
   "metadata": {},
   "outputs": [],
   "source": [
    "try:\n",
    "  print(int(\"ten\"))\n",
    "except:\n",
    "  print(\"Something is wrong\")\n"
   ]
  }
 ],
 "metadata": {
  "kernelspec": {
   "display_name": "Python 3",
   "language": "python",
   "name": "python3"
  },
  "language_info": {
   "name": "python",
   "version": "3.11.0 (main, Oct 24 2022, 18:26:48) [MSC v.1933 64 bit (AMD64)]"
  },
  "orig_nbformat": 4,
  "vscode": {
   "interpreter": {
    "hash": "605e06086d3d3ec5cc8e21f79b56c2aeb9e61b1b0bb1833be2f6cc7446a21148"
   }
  }
 },
 "nbformat": 4,
 "nbformat_minor": 2
}
