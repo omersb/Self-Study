{
 "cells": [
  {
   "cell_type": "code",
   "execution_count": 1,
   "metadata": {},
   "outputs": [
    {
     "name": "stdout",
     "output_type": "stream",
     "text": [
      "12\n"
     ]
    }
   ],
   "source": [
    "def calculator(a, b, op):\n",
    "    if op == \"+\":\n",
    "        return a + b\n",
    "    elif op == \"-\":\n",
    "        return a - b\n",
    "    elif op == \"*\":\n",
    "        return a * b\n",
    "    elif op == \"/\":\n",
    "        return round(a / b, 2)\n",
    "    else:\n",
    "        print(\"Invalid operator\")\n",
    "print(calculator(7, 5, \"+\"))"
   ]
  },
  {
   "cell_type": "code",
   "execution_count": 2,
   "metadata": {},
   "outputs": [
    {
     "name": "stdout",
     "output_type": "stream",
     "text": [
      "5\n"
     ]
    }
   ],
   "source": [
    "def absolute_value(a):\n",
    "    if a > 0:\n",
    "        return a\n",
    "    elif a < 0:\n",
    "        return 0 - a\n",
    "    else:\n",
    "        return 0\n",
    "\n",
    "value = int(input(\"Please enter a number: \"))\n",
    "\n",
    "print(absolute_value(value))"
   ]
  },
  {
   "cell_type": "code",
   "execution_count": 3,
   "metadata": {},
   "outputs": [
    {
     "name": "stdout",
     "output_type": "stream",
     "text": [
      "1234"
     ]
    }
   ],
   "source": [
    "n = int(input())\n",
    "\n",
    "for i in range(1, n+1):\n",
    "    print(i, end=\"\")\n"
   ]
  },
  {
   "cell_type": "code",
   "execution_count": 4,
   "metadata": {},
   "outputs": [],
   "source": [
    "def slicer(*args):\n",
    "    even = []\n",
    "    odd = []\n",
    "    for i in args:\n",
    "        if i % 2:\n",
    "            odd.append(i)\n",
    "        else:\n",
    "            even.append(i)\n",
    "    return odd, even"
   ]
  },
  {
   "cell_type": "code",
   "execution_count": 5,
   "metadata": {},
   "outputs": [
    {
     "name": "stdout",
     "output_type": "stream",
     "text": [
      "odd: [1, 3, 5, 7, 9]\n",
      "even: [2, 4, 6, 8]\n"
     ]
    }
   ],
   "source": [
    "odd, even = slicer(1, 2, 3, 4, 5, 6, 7, 8, 9)\n",
    "print(\"odd:\", odd)\n",
    "print(\"even:\", even)\n"
   ]
  },
  {
   "cell_type": "code",
   "execution_count": 6,
   "metadata": {},
   "outputs": [
    {
     "name": "stdout",
     "output_type": "stream",
     "text": [
      "dict_values(['Tiger', 'Elephant', 'Bears'])\n",
      "a is Tiger\n",
      "b is Elephant\n",
      "c is Bears\n"
     ]
    }
   ],
   "source": [
    "def animals (**kwargs):\n",
    "    print(kwargs.values())\n",
    "    for key, value in kwargs.items():\n",
    "        print(key, \"is\", value)\n",
    "\n",
    "animals(a=\"Tiger\", b=\"Elephant\", c=\"Bears\")"
   ]
  },
  {
   "cell_type": "code",
   "execution_count": 7,
   "metadata": {},
   "outputs": [
    {
     "name": "stdout",
     "output_type": "stream",
     "text": [
      "(['henry', 'cooper'], [38, 25])\n"
     ]
    }
   ],
   "source": [
    "def orginizer(**kwargs):\n",
    "    name_list = []\n",
    "    age_list = []\n",
    "\n",
    "    for name, age in kwargs.items():\n",
    "        name_list.append(name)  \n",
    "        age_list.append(age)\n",
    "    return name_list, age_list\n",
    "\n",
    "print(orginizer(henry =38, cooper=25,))"
   ]
  },
  {
   "cell_type": "code",
   "execution_count": 8,
   "metadata": {},
   "outputs": [
    {
     "name": "stdout",
     "output_type": "stream",
     "text": [
      "(['henry', 'cooper'], [38, 25])\n"
     ]
    }
   ],
   "source": [
    "def organizer(**kwargs):\n",
    "    names = list(kwargs.keys())\n",
    "    ages = list(kwargs.values())\n",
    "\n",
    "    return names, ages\n",
    "\n",
    "print(orginizer(henry=38, cooper=25,))"
   ]
  },
  {
   "cell_type": "code",
   "execution_count": 9,
   "metadata": {},
   "outputs": [
    {
     "name": "stdout",
     "output_type": "stream",
     "text": [
      "4.0\n"
     ]
    }
   ],
   "source": [
    "average = (lambda x, y: (x + y) / 2)(3 , 5)\n",
    "print(average)"
   ]
  },
  {
   "cell_type": "code",
   "execution_count": 10,
   "metadata": {},
   "outputs": [
    {
     "name": "stdout",
     "output_type": "stream",
     "text": [
      "fedcba\n"
     ]
    }
   ],
   "source": [
    "iterable = \"abcdef\"\n",
    "\n",
    "reverse_itr = (lambda x: x[::-1])(iterable)\n",
    "print(reverse_itr)\n"
   ]
  },
  {
   "cell_type": "code",
   "execution_count": 11,
   "metadata": {},
   "outputs": [
    {
     "name": "stdout",
     "output_type": "stream",
     "text": [
      "1 : odd\n",
      "2 : even\n",
      "3 : odd\n",
      "4 : even\n",
      "5 : odd\n"
     ]
    }
   ],
   "source": [
    "a_list = [1, 2, 3, 4, 5]\n",
    "\n",
    "for i in a_list:\n",
    "    print(i, \":\", (lambda i: \"odd\" if i%2 else \"even\")(i))"
   ]
  },
  {
   "cell_type": "code",
   "execution_count": 12,
   "metadata": {},
   "outputs": [
    {
     "name": "stdout",
     "output_type": "stream",
     "text": [
      "[1, 4, 9, 16, 25]\n"
     ]
    }
   ],
   "source": [
    "a_list = [1, 2, 3, 4, 5]\n",
    "\n",
    "res =map(lambda x : x ** 2, a_list)\n",
    "\n",
    "square = list(res)\n",
    "\n",
    "print(square)"
   ]
  },
  {
   "cell_type": "code",
   "execution_count": 13,
   "metadata": {},
   "outputs": [
    {
     "name": "stdout",
     "output_type": "stream",
     "text": [
      "string value 1\n",
      "string value 2\n"
     ]
    }
   ],
   "source": [
    "b = \"string value 1\"\n",
    "c = \"string value 2\"\n",
    "print(b)\n",
    "print(c)"
   ]
  }
 ],
 "metadata": {
  "kernelspec": {
   "display_name": "Python 3",
   "language": "python",
   "name": "python3"
  },
  "language_info": {
   "codemirror_mode": {
    "name": "ipython",
    "version": 3
   },
   "file_extension": ".py",
   "mimetype": "text/x-python",
   "name": "python",
   "nbconvert_exporter": "python",
   "pygments_lexer": "ipython3",
   "version": "3.11.0"
  },
  "orig_nbformat": 4,
  "vscode": {
   "interpreter": {
    "hash": "605e06086d3d3ec5cc8e21f79b56c2aeb9e61b1b0bb1833be2f6cc7446a21148"
   }
  }
 },
 "nbformat": 4,
 "nbformat_minor": 2
}
