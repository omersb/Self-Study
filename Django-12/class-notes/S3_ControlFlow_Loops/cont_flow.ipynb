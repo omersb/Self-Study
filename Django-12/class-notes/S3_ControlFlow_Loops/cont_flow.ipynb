{
 "cells": [
  {
   "cell_type": "code",
   "execution_count": 1,
   "metadata": {},
   "outputs": [
    {
     "name": "stdout",
     "output_type": "stream",
     "text": [
      "poz sayıdır\n"
     ]
    }
   ],
   "source": [
    "sayı = int(input(\"Bir sayı Giriniz\"))\n",
    "if sayı < 0 :\n",
    "    print(\"Negatif sayıdr\")\n",
    "elif sayı > 0 :\n",
    "    print(\"Pozitif sayıdır\")\n",
    "else :\n",
    "    print(\"sıfır girdiniz\")"
   ]
  }
 ],
 "metadata": {
  "kernelspec": {
   "display_name": "Python 3.11.0 64-bit",
   "language": "python",
   "name": "python3"
  },
  "language_info": {
   "codemirror_mode": {
    "name": "ipython",
    "version": 3
   },
   "file_extension": ".py",
   "mimetype": "text/x-python",
   "name": "python",
   "nbconvert_exporter": "python",
   "pygments_lexer": "ipython3",
   "version": "3.11.0"
  },
  "orig_nbformat": 4,
  "vscode": {
   "interpreter": {
    "hash": "605e06086d3d3ec5cc8e21f79b56c2aeb9e61b1b0bb1833be2f6cc7446a21148"
   }
  }
 },
 "nbformat": 4,
 "nbformat_minor": 2
}
