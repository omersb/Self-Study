{
 "cells": [
  {
   "cell_type": "code",
   "execution_count": 1,
   "metadata": {},
   "outputs": [
    {
     "name": "stdout",
     "output_type": "stream",
     "text": [
      "This is an autumn month\n"
     ]
    }
   ],
   "source": [
    "month = \"April\" \n",
    "spring = \"September, April, January\"\n",
    "autumn = \"March, October, July\"\n",
    "\n",
    "if (month in spring) or (month in autumn):\n",
    "    if month in autumn:\n",
    "        print(\"This is a spring month\")\n",
    "    else:\n",
    "        print(\"This is an autumn month\")\n",
    "else:\n",
    "    print(\"This month is not categorized\")"
   ]
  }
 ],
 "metadata": {
  "kernelspec": {
   "display_name": "Python 3",
   "language": "python",
   "name": "python3"
  },
  "language_info": {
   "codemirror_mode": {
    "name": "ipython",
    "version": 3
   },
   "file_extension": ".py",
   "mimetype": "text/x-python",
   "name": "python",
   "nbconvert_exporter": "python",
   "pygments_lexer": "ipython3",
   "version": "3.11.0"
  },
  "orig_nbformat": 4,
  "vscode": {
   "interpreter": {
    "hash": "605e06086d3d3ec5cc8e21f79b56c2aeb9e61b1b0bb1833be2f6cc7446a21148"
   }
  }
 },
 "nbformat": 4,
 "nbformat_minor": 2
}
