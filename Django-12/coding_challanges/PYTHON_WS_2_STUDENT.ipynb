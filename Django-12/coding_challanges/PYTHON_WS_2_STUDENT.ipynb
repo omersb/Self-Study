{
 "cells": [
  {
   "cell_type": "code",
   "execution_count": 1,
   "metadata": {},
   "outputs": [
    {
     "name": "stdout",
     "output_type": "stream",
     "text": [
      "This is an autumn month\n"
     ]
    }
   ],
   "source": [
    "month = \"April\" \n",
    "spring = \"September, April, January\"\n",
    "autumn = \"March, October, July\"\n",
    "\n",
    "if (month in spring) or (month in autumn):\n",
    "    if month in autumn:\n",
    "        print(\"This is a spring month\")\n",
    "    else:\n",
    "        print(\"This is an autumn month\")\n",
    "else:\n",
    "    print(\"This month is not categorized\")"
   ]
  },
  {
   "cell_type": "code",
   "execution_count": 19,
   "metadata": {},
   "outputs": [
    {
     "name": "stdout",
     "output_type": "stream",
     "text": [
      "rr\n",
      "qq\n",
      "pp\n"
     ]
    }
   ],
   "source": [
    "for x in set('pqr'):\n",
    "  print(x*2)"
   ]
  },
  {
   "cell_type": "code",
   "execution_count": 26,
   "metadata": {},
   "outputs": [
    {
     "data": {
      "text/plain": [
       "40"
      ]
     },
     "execution_count": 26,
     "metadata": {},
     "output_type": "execute_result"
    }
   ],
   "source": [
    "d = {\"john\": 40, \"peter\": 45}\n",
    "d[\"john\"]\n"
   ]
  },
  {
   "cell_type": "code",
   "execution_count": 27,
   "metadata": {},
   "outputs": [
    {
     "name": "stdout",
     "output_type": "stream",
     "text": [
      "3\n"
     ]
    }
   ],
   "source": [
    "D = {1: 1, 2: '2', '1': 1, '2': 3}\n",
    "D['1'] = 2\n",
    "print(D[D[D[str(D[1])]]])"
   ]
  },
  {
   "cell_type": "code",
   "execution_count": 29,
   "metadata": {},
   "outputs": [
    {
     "name": "stdout",
     "output_type": "stream",
     "text": [
      "abcd\n"
     ]
    }
   ],
   "source": [
    "x = 'abcd'\n",
    "for i in range(len(x)):\n",
    "  i[x].upper()\n",
    "print(x)"
   ]
  },
  {
   "cell_type": "code",
   "execution_count": 30,
   "metadata": {},
   "outputs": [
    {
     "name": "stdout",
     "output_type": "stream",
     "text": [
      "[1, 3, 6, 10]\n"
     ]
    }
   ],
   "source": [
    "a = [1, 2, 3, 4]\n",
    "b = [sum(a[0:x+1]) for x in range(0, len(a))]\n",
    "print(b)"
   ]
  },
  {
   "cell_type": "code",
   "execution_count": 31,
   "metadata": {},
   "outputs": [
    {
     "name": "stdout",
     "output_type": "stream",
     "text": [
      "[(2019, 'Freshman'), (2020, 'Sophomore'), (2021, 'Junior'), (2022, 'Senior')]\n"
     ]
    }
   ],
   "source": [
    "college_years = ['Freshman', 'Sophomore', 'Junior', 'Senior']\n",
    "print(list(enumerate(college_years, 2019)))"
   ]
  },
  {
   "cell_type": "code",
   "execution_count": 32,
   "metadata": {},
   "outputs": [
    {
     "name": "stdout",
     "output_type": "stream",
     "text": [
      " wo\n"
     ]
    }
   ],
   "source": [
    "example = \"snow world\"\n",
    "print(\"{}\".format(example[4:7]))"
   ]
  },
  {
   "cell_type": "code",
   "execution_count": 33,
   "metadata": {},
   "outputs": [
    {
     "name": "stdout",
     "output_type": "stream",
     "text": [
      "False\n"
     ]
    }
   ],
   "source": [
    "print(\"xyyzxyzxzxyy\".endswith(\"xyy\", 0, 2))\n"
   ]
  }
 ],
 "metadata": {
  "kernelspec": {
   "display_name": "Python 3",
   "language": "python",
   "name": "python3"
  },
  "language_info": {
   "codemirror_mode": {
    "name": "ipython",
    "version": 3
   },
   "file_extension": ".py",
   "mimetype": "text/x-python",
   "name": "python",
   "nbconvert_exporter": "python",
   "pygments_lexer": "ipython3",
   "version": "3.11.0"
  },
  "orig_nbformat": 4,
  "vscode": {
   "interpreter": {
    "hash": "605e06086d3d3ec5cc8e21f79b56c2aeb9e61b1b0bb1833be2f6cc7446a21148"
   }
  }
 },
 "nbformat": 4,
 "nbformat_minor": 2
}
